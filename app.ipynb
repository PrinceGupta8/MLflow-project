{
 "cells": [
  {
   "cell_type": "code",
   "execution_count": 2,
   "metadata": {},
   "outputs": [],
   "source": [
    "import pandas as pd"
   ]
  },
  {
   "cell_type": "code",
   "execution_count": 3,
   "metadata": {},
   "outputs": [
    {
     "data": {
      "text/html": [
       "<div>\n",
       "<style scoped>\n",
       "    .dataframe tbody tr th:only-of-type {\n",
       "        vertical-align: middle;\n",
       "    }\n",
       "\n",
       "    .dataframe tbody tr th {\n",
       "        vertical-align: top;\n",
       "    }\n",
       "\n",
       "    .dataframe thead th {\n",
       "        text-align: right;\n",
       "    }\n",
       "</style>\n",
       "<table border=\"1\" class=\"dataframe\">\n",
       "  <thead>\n",
       "    <tr style=\"text-align: right;\">\n",
       "      <th></th>\n",
       "      <th>Unnamed: 0</th>\n",
       "      <th>inputs</th>\n",
       "      <th>ground_truth</th>\n",
       "      <th>outputs</th>\n",
       "      <th>latency</th>\n",
       "      <th>token_count</th>\n",
       "      <th>answer_similarity/v1/score</th>\n",
       "      <th>answer_similarity/v1/justification</th>\n",
       "    </tr>\n",
       "  </thead>\n",
       "  <tbody>\n",
       "    <tr>\n",
       "      <th>0</th>\n",
       "      <td>0</td>\n",
       "      <td>What is MLflow?</td>\n",
       "      <td>MLflow is an open-source platform designed to ...</td>\n",
       "      <td>MLflow is an open-source platform developed by...</td>\n",
       "      <td>7.407103</td>\n",
       "      <td>56</td>\n",
       "      <td>5</td>\n",
       "      <td>The provided output closely aligns with the ta...</td>\n",
       "    </tr>\n",
       "    <tr>\n",
       "      <th>1</th>\n",
       "      <td>1</td>\n",
       "      <td>What is Spark?</td>\n",
       "      <td>Apache Spark is an open-source unified analyti...</td>\n",
       "      <td>Spark is an open-source, distributed computing...</td>\n",
       "      <td>4.791960</td>\n",
       "      <td>34</td>\n",
       "      <td>4</td>\n",
       "      <td>The provided output aligns closely with the ta...</td>\n",
       "    </tr>\n",
       "  </tbody>\n",
       "</table>\n",
       "</div>"
      ],
      "text/plain": [
       "   Unnamed: 0           inputs  \\\n",
       "0           0  What is MLflow?   \n",
       "1           1   What is Spark?   \n",
       "\n",
       "                                        ground_truth  \\\n",
       "0  MLflow is an open-source platform designed to ...   \n",
       "1  Apache Spark is an open-source unified analyti...   \n",
       "\n",
       "                                             outputs   latency  token_count  \\\n",
       "0  MLflow is an open-source platform developed by...  7.407103           56   \n",
       "1  Spark is an open-source, distributed computing...  4.791960           34   \n",
       "\n",
       "   answer_similarity/v1/score  \\\n",
       "0                           5   \n",
       "1                           4   \n",
       "\n",
       "                  answer_similarity/v1/justification  \n",
       "0  The provided output closely aligns with the ta...  \n",
       "1  The provided output aligns closely with the ta...  "
      ]
     },
     "execution_count": 3,
     "metadata": {},
     "output_type": "execute_result"
    }
   ],
   "source": [
    "df=pd.read_csv('eval.csv')\n",
    "df"
   ]
  }
 ],
 "metadata": {
  "kernelspec": {
   "display_name": "Python 3",
   "language": "python",
   "name": "python3"
  },
  "language_info": {
   "codemirror_mode": {
    "name": "ipython",
    "version": 3
   },
   "file_extension": ".py",
   "mimetype": "text/x-python",
   "name": "python",
   "nbconvert_exporter": "python",
   "pygments_lexer": "ipython3",
   "version": "3.12.3"
  }
 },
 "nbformat": 4,
 "nbformat_minor": 2
}
